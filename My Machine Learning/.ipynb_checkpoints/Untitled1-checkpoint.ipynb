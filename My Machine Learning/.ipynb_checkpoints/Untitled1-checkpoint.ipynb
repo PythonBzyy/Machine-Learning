{
 "cells": [
  {
   "cell_type": "code",
   "execution_count": 1,
   "id": "6de6b8eb-0a4a-4c1f-a547-35e6f9e25190",
   "metadata": {
    "execution": {
     "iopub.execute_input": "2023-05-25T03:26:57.826293Z",
     "iopub.status.busy": "2023-05-25T03:26:57.825372Z",
     "iopub.status.idle": "2023-05-25T03:26:57.837311Z",
     "shell.execute_reply": "2023-05-25T03:26:57.837311Z",
     "shell.execute_reply.started": "2023-05-25T03:26:57.826293Z"
    }
   },
   "outputs": [],
   "source": [
    "a=1"
   ]
  },
  {
   "cell_type": "code",
   "execution_count": null,
   "id": "32f6d50a-54b2-4279-afc0-f6419667858d",
   "metadata": {},
   "outputs": [],
   "source": []
  }
 ],
 "metadata": {
  "kernelspec": {
   "display_name": "Python 3 (ipykernel)",
   "language": "python",
   "name": "python3"
  },
  "language_info": {
   "codemirror_mode": {
    "name": "ipython",
    "version": 3
   },
   "file_extension": ".py",
   "mimetype": "text/x-python",
   "name": "python",
   "nbconvert_exporter": "python",
   "pygments_lexer": "ipython3",
   "version": "3.9.12"
  }
 },
 "nbformat": 4,
 "nbformat_minor": 5
}
