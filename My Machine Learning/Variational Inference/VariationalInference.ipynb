{
 "cells": [
  {
   "cell_type": "markdown",
   "id": "44c21b2b3dacf6a0",
   "metadata": {},
   "source": [
    "# Variational Inference\n",
    "\n",
    "2024-03-19\n"
   ]
  },
  {
   "cell_type": "markdown",
   "id": "805a0b8ae0b53bfc",
   "metadata": {},
   "source": [
    "## Example 1: Gaussian-Gamma (Conjugate) posterior\n",
    "\n",
    "### 1. Variational inference\n",
    "\n",
    "对于某一元高斯分布，$\\mathcal N(x | \\mu, \\tau^{-1})$ (这里用精度 $\\tau = 1 / \\sigma^2$ 来代替方差表示方法)，假设我们有 $N$ 个观测数据 $X = \\{x_1, x_2, \\dots, x_N\\}$，那么似然函数为：\n",
    "\n",
    "**likelihood：**\n",
    "$$\\begin{aligned}\n",
    "    p(X | \\mu, \\tau) &= \\prod_{i=1}^N (\\frac{\\tau}{2 \\pi})^{1/2} \\exp\\bigg\\{-\\frac{\\tau}{2} (x_i - \\mu)^2 \\bigg\\} \\\\\n",
    "     &= (\\frac{\\tau}{2 \\pi})^{N / 2} \\exp\\bigg\\{- \\frac{\\tau}{2} \\sum_{i=1}^N (x_i - \\mu)^2\\bigg\\}\n",
    "\\end{aligned}$$\n",
    "它的共轭先验分布为 **Gaussian-Gamma分布**：\n",
    "\n",
    "**prior：**\n",
    "$$\n",
    "    p(\\mu | \\tau) = \\mathcal N(\\mu_0, (\\lambda_0 \\tau)^{-1}) \\propto \\exp\\big\\{\\frac{-\\lambda_0 \\tau}{2} (\\mu - \\mu_0)^2 \\big\\} \\\\\n",
    "    p(\\tau) = \\text{Gamma}(\\tau | a_0, b_0) \\propto \\tau^{a_0 -1} \\exp\\big\\{-b_0 \\tau \\big\\}\n",
    "$$ \n",
    "可以看到这里 $\\mu$ 和 $\\tau$ 不独立。\n",
    "\n",
    "**posterior：**\n",
    "$$\\begin{aligned}\n",
    "    p(\\mu, \\tau | X) &= \\frac{p(X | \\mu, \\tau) \\, p(\\mu | \\tau) \\, p(\\tau)}{p(X)} \\\\\n",
    "    & \\propto p(X | \\mu, \\tau) \\, p(\\mu | \\tau) \\, p(\\tau) \\\\\n",
    "    &= \\mathcal N(\\mu_N, (\\lambda_N \\tau)^{-1})\\ \\text{Gamma} (\\tau | a_N, b_N)\n",
    "\\end{aligned}$$\n",
    "可以看到，一共有4个参数：$\\mu_N, \\lambda_N, a_N, b_N$\n",
    "\n",
    "注意，这里是有后验的解析解的，还是从上面的式子中推导：\n",
    "$$\\begin{aligned}\n",
    "    p(\\mu, \\tau | X) &\\propto p(X | \\mu, \\tau) \\, p(\\mu | \\tau) \\, p(\\tau) \\\\\n",
    "    &\\propto (\\frac{\\tau}{2 \\pi})^{N/2} \\exp\\bigg\\{-\\frac{\\tau}{2} \\sum_{i=1}^N (x_i - \\mu)^2 \\bigg\\} \\, (\\frac{\\lambda_0 \\tau}{2 \\pi})^{1/2} \\exp\\big\\{-\\frac{\\lambda_0 \\tau}{2} (\\mu - \\mu_0)^2 \\big\\} \\, \\tau^{a_0 - 1} \\exp\\{ -b_0 \\tau\\} \\\\\n",
    "    &\\propto \\tau^{(N+1)/2 + a_0 -1} \\exp\\{-b_0 \\tau \\} \\, \\exp\\bigg\\{-\\frac{\\tau}{2} \\sum_{i=1}^N (x_i - \\mu)^2 - \\frac{\\lambda_0 \\tau}{2} (\\mu - \\mu_0)^2 \\bigg\\} \\\\\n",
    "    &\\propto \\tau^{(N+1)/2 + a_0 -1} \\exp\\{-b_0 \\tau \\} \\, \\exp\\bigg\\{-\\frac{\\tau}{2} \\sum_{i=1}^N x_i^2 \\bigg\\} \\, \\exp\\bigg\\{-\\frac{\\lambda_0 \\mu_0^2 \\tau}{2} \\bigg\\} \\, \\exp\\bigg\\{-\\frac{(\\lambda_0 + N) \\tau}{2} \\big(\\mu - \\frac{\\sum_{i=1}^N x_i + \\lambda_0 \\mu_0}{\\lambda_0 + N} \\big)^2 \\bigg\\} \\\\\n",
    "    &\\propto \\tau^{(N+1)/2 + a_0 -1} \\exp\\bigg\\{- \\big(b_0 + \\frac{1}{2} \\sum_{i=1}^N x_i^2 + \\frac{\\lambda_0 \\mu_0^2}{2} \\big) \\tau \\bigg\\} \\, \\exp\\bigg\\{- \\frac{(\\lambda_0 + N) \\tau}{2} \\big(\\mu - \\frac{\\sum_{i=1}^N x_i + \\lambda_0 \\mu_0}{\\lambda_0 + N} \\big)^2 \\bigg\\}\n",
    "\\end{aligned}$$\n",
    "于是可以发现，前半部分 $\\tau^{(N+1)/2 + a_0 -1} \\exp\\bigg\\{- \\big(b_0 + \\frac{1}{2} \\sum_{i=1}^N x_i^2 + \\frac{\\lambda_0 \\mu_0^2}{2} \\big) \\tau \\bigg\\}$ 是 Gamma 分布的形式，后半部分 $\\exp\\bigg\\{- \\frac{(\\lambda_0 + N) \\tau}{2} \\big(\\mu - \\frac{\\sum_{i=1}^N x_i + \\lambda_0 \\mu_0}{\\lambda_0 + N} \\big)^2 \\bigg\\}$ 是 Gaussian 分布的形式，所以后验分布的解析式可以直接写得：\n",
    "$$\n",
    "    p(\\mu, \\tau | X) = \\mathcal N \\bigg(\\mu | \\frac{\\sum_{i=1}^N x_i + \\lambda_0 \\mu_0}{\\lambda_0 + N}, \\big[(\\lambda_0 + N) \\tau \\big]^{-1} \\bigg) \\cdot \\text{Ga} \\bigg(\\tau | a_0 + \\frac{N}{2}, b_0 + \\frac{1}{2} \\sum_{i=1}^N x_i^2 + \\frac{\\lambda_0 \\mu_0^2}{2} \\bigg)\n",
    "$$\n",
    "对应参数的精确解为：\n",
    "$$\\begin{aligned}\n",
    "    \\mu_N &= \\frac{\\lambda_0 \\mu_0 + N \\bar{x}}{\\lambda_0 + N} \\\\\n",
    "    \\lambda_N &= \\lambda_0 + N \\\\\n",
    "    a_N &= a_0 + N / 2 \\\\\n",
    "    b_N &= b_0 + \\frac{1}{2} \\sum_{i=1}^N (x_i - \\bar{x})^2 + \\frac{\\lambda_0 N (\\bar{x} - \\mu_0)^2}{2 (\\lambda_0 + N)}\n",
    "\\end{aligned}$$\n",
    "\n",
    "那么假如不知道这个后验分布的解，比如一些非常复杂的后验分布无法求解，我们则需要通过变分推断(基于平均场)来近似这一后验。我们设该近似分布为：\n",
    "$$\n",
    "    q(\\mu, \\tau) = q_{\\mu}(\\mu) \\, q_{\\tau}(\\tau)\n",
    "$$\n",
    "我们的目的是让 $q(\\mu, \\tau) \\rightarrow p(\\mu, \\tau | X)$。\n",
    "\n",
    "于是我们得到最优解 $q_{\\mu}^{*}(\\mu)$ 满足：\n",
    "$$\\begin{aligned}\n",
    "    \\log q_{\\mu}^{*}(\\mu) &= \\mathbb E_{q_{\\tau}(\\tau)} [\\log p(\\mu, \\tau, X)] \\\\\n",
    "    &= \\mathbb E_{q_{\\tau}(\\tau)} [\\log p(X | \\mu, \\tau) + \\log p(\\mu | \\tau)] + \\text{const} \\\\\n",
    "    &= \\int_{\\tau} q_{\\tau}(\\tau) \\left[\\frac{N}{2} \\log (\\tau) - \\frac{\\tau}{2} \\sum_{i=1}^N (x_i - \\mu)^2 - \\frac{\\lambda_0 \\tau}{2} (\\mu - \\mu_0)^2 \\right] + \\text{const} \\quad (将与 \\mu 无关的项用 \\text{const} 表示)\\\\\n",
    "    &= -\\frac{\\mathbb E_{q_{\\tau}(\\tau)} [\\tau]}{2} \\left[\\sum_{i=1}^N (x_i - \\mu)^2 + \\lambda_0 (\\mu - \\mu_0)^2 \\right] + \\text{const} \\\\\n",
    "    &= - \\frac{\\mathbb E_{q_{\\tau}(\\tau)} [\\tau] (N + \\lambda_0)}{2} \\left(\\mu - \\frac{N \\bar{x} + \\lambda_0 \\mu_0}{N + \\lambda_0} \\right)^2 + \\text{const}\n",
    "\\end{aligned}$$\n",
    "所以，$q_{\\mu}^*(\\mu) = \\mathcal N \\big(\\frac{N\\bar{x} + \\lambda_0 \\mu_0}{N + \\lambda_0}, \\mathbb E_{q_{\\tau}} [\\tau] (N + \\lambda_0) \\big)$。\n",
    "同理，$\\log q_{\\tau}^*(\\tau) = \\big(\\underbrace{\\frac{N}{2} + a_0}_{a_N} - 1 \\big) \\log(\\tau) - \\tau \\big(\\underbrace{b_0 + \\frac{1}{2} \\mathbb E_{q_{\\mu}} [\\sum_{i=1}^N (x_i - \\mu)^2 + \\lambda_0 (\\mu - \\mu_0)^2]}_{b_N} \\big) + \\text{const}$。\n",
    "所以，$q_{\\tau}^*(\\tau) = \\text{Gamma} (a_N, b_N)$\n",
    "\n",
    "<br>\n",
    "\n",
    "**可以得出结论**：\n",
    "\n",
    "(1) 无须指定 $q_{\\mu}(\\mu)$ 和 $q_{\\tau}(\\tau)$ 的函数形式，因为它们可以从似然函数和共轭先验自动推导出来；\n",
    "\n",
    "(2) 虽然我们假设了 $q_{\\mu}(\\mu)$ 和 $q_{\\tau}(\\tau)$ 相互独立，但求解结果表明它们是相互耦合的，即 $q_{\\mu}(\\mu)$ 依赖于 $q_{\\tau}(\\tau)$，而反过来 $q_{\\tau}(\\tau)$ 依赖于 $q_{\\mu}(\\mu)$。\n",
    "\n",
    "(3) $\\mu_N$ 和 $a_N$ 是固定常数，只有 $\\lambda_N$ 和 $b_N$ 需要迭代更新。"
   ]
  },
  {
   "cell_type": "markdown",
   "source": [
    "### 2. Iterative optimization and Computing the expectation\n",
    "\n",
    "根据上面的推断结果，进行一定顺序下的迭代优化求解：$\\mathbb E [\\tau] \\longrightarrow q_{\\mu}(\\mu) \\longrightarrow \\mathbb E[\\mu], \\mathbb E[\\mu^2] \\longrightarrow q_{\\tau}(\\tau) \\longrightarrow \\mathbb E[\\tau] \\longrightarrow \\dots$。\n",
    "所以接下来的问题就是如何设置初始值 $\\mathbb E[\\tau]$，由于两个分布相互耦合，那么初始值一定会满足某些约束（为了简化计算，我们不妨令参数 $a_0 = b_0 = \\mu_0 = \\tau_0 = 0$\n",
    "（即无信息先验）），为了实现更新，我们必须指定如何计算各种期望，接下来推导一下。\n",
    "由于 $q_{\\mu}(\\mu) = \\mathcal N(\\mu | \\mu_N, \\lambda_N^{-1})$，我们得到：\n",
    "$$\\begin{aligned}\n",
    "    \\mathbb E_{q(\\mu)}[\\mu] &= \\mu_N = \\bar{x} \\\\\n",
    "    \\mathbb E_{q(\\mu)}[\\mu^2] &= \\frac{1}{\\lambda_N} + \\mu_N^2 = \\frac{1}{N \\mathbb E_{q(\\tau)}[\\tau]} + \\bar{x}^2 \\quad (\\frac{a_N}{b_N} = \\mathbb E_{q(\\tau)}[\\tau])\n",
    "\\end{aligned}$$\n",
    "\n",
    "由于 $q(\\tau) = \\text{Ga}(\\tau | a_N, b_N)$，我们得到：\n",
    "$$\\begin{aligned}\n",
    "    \\mathbb E_{q(\\tau)}[\\tau] &= \\frac{a_N}{b_N} \\\\\n",
    "    \\frac{1}{\\mathbb E_{q(\\tau)}[\\tau]} &= \\frac{b_N}{a_N} = \\frac{1}{N} \\sum_{i=1}^N (x_i - \\bar{x})^2\n",
    "\\end{aligned}$$\n",
    "所以：$\\mathbb E_{q(\\tau)}[\\tau] = \\frac{N}{\\sum_{i=1}^N (x_i - \\bar{x})^2}$。我们由此确定了 $\\mathbb E_{q(\\tau)}[\\tau]$ 的初值。\n",
    "\n",
    "现在我们可以给出**更新方程的显式形式**。\n",
    "\n",
    "对于 $q(\\mu)$ 我们有：\n",
    "$$\\begin{aligned}\n",
    "    \\mu_N &= \\frac{\\lambda_0 \\mu_0 + N \\bar{x}}{\\lambda_0 + N} \\\\\n",
    "    \\lambda_N &= (\\lambda_0 + N) \\frac{a_N}{b_N}\n",
    "\\end{aligned}$$\n",
    "对于 $q(\\tau)$ 我们有：\n",
    "$$\\begin{aligned}\n",
    "    a_N &= a_0 + \\frac{N + 1}{2}\n",
    "    b_N &= b_0 + \\frac{1}{2} \\lambda_0 \\big(\\mathbb E [\\mu^2] + \\mu_0^2 - 2 \\mathbb E [\\mu] \\mu_0 \\big) + \\frac{1}{2} \\sum_{i=1}^N \\big(x_i^2 + \\mathbb E [\\mu^2] - 2 \\mathbb E [\\mu] x_i \\big)\n",
    "\\end{aligned}$$\n",
    "接下来就可以进行迭代优化。\n",
    "\n",
    "可以看到 $\\mu_N$ 和 $a_N$ 实际上是固定常数，只有 $\\lambda_N$ 和 $b_N$ 需要迭代更新。事实上可以通过解析方式求解 $\\lambda_N$ 和 $b_N$ 的不动点，但为了说明迭代更新方案，在这里不这样做。"
   ],
   "metadata": {
    "collapsed": false
   },
   "id": "fefb0f0c7bf966ba"
  },
  {
   "cell_type": "markdown",
   "source": [
    "### Codes (Numpy)"
   ],
   "metadata": {
    "collapsed": false
   },
   "id": "c005164ff3408a6b"
  },
  {
   "cell_type": "code",
   "outputs": [],
   "source": [],
   "metadata": {
    "collapsed": false,
    "ExecuteTime": {
     "end_time": "2024-03-20T09:41:23.664149Z",
     "start_time": "2024-03-20T09:41:23.644199Z"
    }
   },
   "id": "57319ac63746171d",
   "execution_count": 1
  },
  {
   "cell_type": "markdown",
   "source": [
    "### Codes (JAX)"
   ],
   "metadata": {
    "collapsed": false
   },
   "id": "d8d27e75b3d1e5d5"
  },
  {
   "cell_type": "code",
   "execution_count": 3,
   "id": "7cffccf55a166168",
   "metadata": {
    "ExecuteTime": {
     "end_time": "2024-03-20T12:11:21.561444Z",
     "start_time": "2024-03-20T12:11:21.548409Z"
    }
   },
   "outputs": [],
   "source": [
    "import jax\n",
    "import jax.numpy as jnp\n",
    "import matplotlib.pyplot as plt\n",
    "from jax import random\n",
    "from jax.scipy import stats\n",
    "from dataclasses import dataclass\n",
    "from jax.scipy.special import gammaln\n",
    "import os\n",
    "import seaborn as sns"
   ]
  },
  {
   "cell_type": "code",
   "execution_count": null,
   "id": "d86c27738ab7938a",
   "metadata": {},
   "outputs": [],
   "source": [
    "def generate_data(self, key, N):\n",
    "    \"\"\"\n",
    "    用于生成 N 个数据样本，这些样本来自于标准正态分布。然后对这些数据进行标准化\n",
    "    :param key: \n",
    "    :param N: \n",
    "    :return: \n",
    "    \"\"\"\n",
    "    data = random.normal(key, (N,))\n",
    "    data = (data - data.mean() / data.std())\n",
    "\n",
    "    return data\n",
    "\n",
    "\n",
    "# 定义 Gaussian-Gamma 类\n",
    "class GaussianGamma:\n",
    "    def __init__(self, mu, lambda_, a, b):\n",
    "        self.mu = mu\n",
    "        self.lambda_ = lambda_\n",
    "        self.a = a\n",
    "        self.b = b\n",
    "\n",
    "    def gaussian_gamma_pdf(self, mu, tau, params):\n",
    "        \"\"\"\n",
    "        计算 Gauss 和 Gamma 的 pdf\n",
    "        这是真实的后验分布。\n",
    "        :param mu: \n",
    "        :param lambda_: \n",
    "        :param params: \n",
    "        :return: \n",
    "        \"\"\"\n",
    "        N_part = stats.norm.pdf(mu, loc=params.mu, scale=1 / jnp.sqrt(params.lambda_ * tau))  # 计算 Gauss 部分的 pdf\n",
    "        G_part = stats.gamma.pdf(tau, params.a, scale=1 / params.b)  # 计算 Gamma 部分的 pdf\n",
    "\n",
    "        return N_part * G_part\n",
    "\n",
    "    def vb_est_pdf(self, mu, tau, params):\n",
    "        \"\"\"\n",
    "        Variational-bayes pdf of a univariate gaussian-gamma distribution\n",
    "        单变量 Gaussian-Gamma 分布的 变分贝叶斯(近似) pdf\n",
    "        :param mu: \n",
    "        :param tau: \n",
    "        :param params: \n",
    "        :return: \n",
    "        \"\"\"\n",
    "        N_part = stats.norm.pdf(mu, loc=params.mu, scale=1 / jnp.sqrt(params.lambda_))\n",
    "        G_part = stats.gamma.pdf(tau, params.a, scale=1 / params.b)\n",
    "\n",
    "        return N_part * G_part\n",
    "\n",
    "    def vb_unigauss_learn(self, data, params_prior, params_init, eps=1e-6):\n",
    "        \"\"\"\n",
    "        Variational Bayes (VB) procedure for estimating the parameters \n",
    "        of a univariate gaussian distribution.\n",
    "        参数更新流程\n",
    "        :param data: \n",
    "        :param params_prior: \n",
    "        :param params_init: \n",
    "        :param eps: \n",
    "        :return: \n",
    "        \"\"\"\n",
    "        lower_bound = -jnp.inf\n",
    "        xbar = jnp.mean(data)  # 样本均值\n",
    "\n",
    "        # 先验\n",
    "        mu0, lambda_0 = params_prior.mu, params_prior.lambda_\n",
    "        a0, b0 = params_prior.a, params_prior.b\n",
    "\n",
    "        # 初始值\n",
    "        muN, lambda_N = params_init.mu, params_init.lambda_\n",
    "        aN, bN = params_init.a, params_init.b\n",
    "\n",
    "        converge = False\n",
    "        params_hist = []  # 参数更新历史\n",
    "        while not converge:\n",
    "            est_params = (muN, lambda_N, aN, bN)\n",
    "            params_hist.append(est_params)\n",
    "\n",
    "            # updata q_mu\n",
    "            e_tau = aN / bN\n",
    "            muN = (N * xbar + lambda_0 * mu0) / (lambda_0 + N)\n",
    "            lambda_N = (lambda_0 + N) * e_tau\n",
    "\n",
    "            est_params = (muN, lambda_N, aN, bN)\n",
    "            params_hist.append(est_params)\n",
    "\n",
    "            # update q_tau\n",
    "            e_mu = xbar\n",
    "            e_mu2 = 1 / lambda_N + muN ** 2\n",
    "            aN = a0 + (N + 1) / 2\n",
    "            bN = b0 + lambda_0 * (e_mu2 + mu0 ** 2 - 2 * mu0 * e_mu) / 2 + (\n",
    "                        data ** 2 + e_mu2 - 2 * e_mu * data).sum() / 2\n",
    "\n",
    "            est_params = (muN, lambda_N, aN, bN)\n",
    "            params_hist.append(est_params)\n",
    "\n",
    "            lower_bound_new = -jnp.log(lambda_N) - gammaln(aN) * jnp.log(bN)\n",
    "\n",
    "            if abs(lower_bound_new / lower_bound - 1) < eps:\n",
    "                converge = True\n",
    "                est_params = (muN, lambda_N, aN, bN)\n",
    "                params_hist.append(est_params)\n",
    "            else:\n",
    "                lower_bound = lower_bound_new\n",
    "\n",
    "        return est_params, params_hist\n"
   ]
  },
  {
   "cell_type": "code",
   "execution_count": 4,
   "id": "7551767f",
   "metadata": {
    "ExecuteTime": {
     "end_time": "2024-03-20T12:34:56.291869Z",
     "start_time": "2024-03-20T12:34:53.985072Z"
    }
   },
   "outputs": [
    {
     "ename": "NameError",
     "evalue": "name 'GaussianGamma' is not defined",
     "output_type": "error",
     "traceback": [
      "\u001B[1;31m---------------------------------------------------------------------------\u001B[0m",
      "\u001B[1;31mNameError\u001B[0m                                 Traceback (most recent call last)",
      "Cell \u001B[1;32mIn[4], line 1\u001B[0m\n\u001B[1;32m----> 1\u001B[0m gaussian_gamma \u001B[38;5;241m=\u001B[39m \u001B[43mGaussianGamma\u001B[49m()\n\u001B[0;32m      3\u001B[0m gaussian_gamma_pdf_vmap \u001B[38;5;241m=\u001B[39m jax\u001B[38;5;241m.\u001B[39mvmap(gaussian_gamma\u001B[38;5;241m.\u001B[39mgaussian_gamma_pdf, in_axes\u001B[38;5;241m=\u001B[39m(\u001B[38;5;241m0\u001B[39m, \u001B[38;5;28;01mNone\u001B[39;00m, \u001B[38;5;28;01mNone\u001B[39;00m))\n\u001B[0;32m      4\u001B[0m gaussian_gamma_pdf_vmap \u001B[38;5;241m=\u001B[39m jax\u001B[38;5;241m.\u001B[39mvmap(gaussian_gamma\u001B[38;5;241m.\u001B[39mgaussian_gamma_pdf_vmap, in_axes\u001B[38;5;241m=\u001B[39m(\u001B[38;5;28;01mNone\u001B[39;00m, \u001B[38;5;241m0\u001B[39m, \u001B[38;5;28;01mNone\u001B[39;00m))\n",
      "\u001B[1;31mNameError\u001B[0m: name 'GaussianGamma' is not defined"
     ]
    }
   ],
   "source": [
    "gaussian_gamma = GaussianGamma()\n",
    "\n",
    "gaussian_gamma_pdf_vmap = jax.vmap(gaussian_gamma.gaussian_gamma_pdf, in_axes=(0, None, None))\n",
    "gaussian_gamma_pdf_vmap = jax.vmap(gaussian_gamma.gaussian_gamma_pdf_vmap, in_axes=(None, 0, None))\n",
    "\n",
    "vb_est_pdf_vmap = jax.vmap(gaussian_gamma.vb_est_pdf, in_axes=(0, None, None))\n",
    "vb_est_pdf_vmap = jax.vmap(gaussian_gamma.vb_est_pdf_vmap, in_axes=(None, 0, None))\n",
    "\n",
    "\n",
    "def plot_gauss_exact_vb(\n",
    "        ax, exact_params, vb_params, mu_min=-1, mu_max=1, lambda_min=0, lambda_max=2, npoints=500, levels=5,\n",
    "        bb=(0.1, 0.1)\n",
    "):\n",
    "    mu_range = jnp.linspace(mu_min, mu_max, npoints)\n",
    "    lambda_range = jnp.linspace(lambda_min, lambda_max, npoints)\n",
    "    proba_exact_space = gaussian_gamma_pdf_vmap(mu_range, lambda_range, exact_params)\n",
    "    proba_vb_space = vb_est_pdf_vmap(mu_range, lambda_range, vb_params)\n",
    "\n",
    "    contour_exact = ax.contour(mu_range, lambda_range, proba_exact_space, colors=\"tab:orange\", levels=levels, lw=10)\n",
    "    contour_vb = ax.contour(mu_range, lambda_range, proba_vb_space, colors=\"tab:blue\", levels=levels)\n",
    "    ax.set_xlabel(r\"$\\mu$\", fontsize=15)\n",
    "    ax.set_ylabel(r\"$\\tau$\", fontsize=15)\n",
    "    contour_exact.collections[0].set_label(\"exact\")\n",
    "    contour_vb.collections[0].set_label(\"VB\")\n",
    "\n",
    "    h1, _ = contour_exact.legend_elements()\n",
    "    h2, _ = contour_vb.legend_elements()\n",
    "    ax.legend([h1[0], h2[0]], [\"Exact\", \"VB\"], bbox_to_anchor=bb, frameon=False, fontsize=11)\n",
    "    sns.despine()\n",
    "    ax.tick_params(axis=\"both\", which=\"major\", labelsize=14)\n",
    "\n",
    "    #     ax.axis(\"equal\")\n",
    "    ax.set_aspect(\"equal\")"
   ]
  },
  {
   "cell_type": "code",
   "outputs": [
    {
     "ename": "NameError",
     "evalue": "name 'generate_data' is not defined",
     "output_type": "error",
     "traceback": [
      "\u001B[1;31m---------------------------------------------------------------------------\u001B[0m",
      "\u001B[1;31mNameError\u001B[0m                                 Traceback (most recent call last)",
      "Cell \u001B[1;32mIn[5], line 3\u001B[0m\n\u001B[0;32m      1\u001B[0m key \u001B[38;5;241m=\u001B[39m random\u001B[38;5;241m.\u001B[39mPRNGKey(\u001B[38;5;241m21\u001B[39m)\n\u001B[0;32m      2\u001B[0m N \u001B[38;5;241m=\u001B[39m \u001B[38;5;241m10\u001B[39m\n\u001B[1;32m----> 3\u001B[0m data \u001B[38;5;241m=\u001B[39m \u001B[43mgenerate_data\u001B[49m(key, N)\n\u001B[0;32m      5\u001B[0m \u001B[38;5;66;03m# prior parameters of the distribution\u001B[39;00m\n\u001B[0;32m      6\u001B[0m \u001B[38;5;66;03m# 参数先验\u001B[39;00m\n\u001B[0;32m      7\u001B[0m mu0, lambda_0, a0, b0 \u001B[38;5;241m=\u001B[39m jnp\u001B[38;5;241m.\u001B[39mzeros(\u001B[38;5;241m4\u001B[39m)\n",
      "\u001B[1;31mNameError\u001B[0m: name 'generate_data' is not defined"
     ]
    }
   ],
   "source": [
    "key = random.PRNGKey(21)\n",
    "N = 10\n",
    "data = generate_data(key, N)\n",
    "\n",
    "# prior parameters of the distribution\n",
    "# 参数先验\n",
    "mu0, lambda_0, a0, b0 = jnp.zeros(4)\n",
    "params_prior = (mu0, lambda_0, a0, b0)\n",
    "\n",
    "# exact parameters of the posterior distribution (according to the specified priors with values zero)\n",
    "# 参数后验\n",
    "x_bar = jnp.mean(data)\n",
    "mu_post = jnp.mean(data)\n",
    "lambda_post = N\n",
    "a_post = N / 2\n",
    "b_post = jnp.sum((data - mu_post) ** 2) / 2\n",
    "posterior_params = GaussGamma(mu_post, lambda_post, a_post, b_post)\n",
    "\n",
    "# variational-bayes (VB) estimation of the posterior parameters\n",
    "# VB 后验估计\n",
    "params_vb_init = GaussGamma(mu=0.5, beta=5, a=2.5, b=1)\n",
    "_, params_hist = vb_unigauss_learn(data, params_prior, params_vb_init)\n",
    "\n",
    "\"\"\"\n",
    "# 迭代流程\n",
    "    1. \n",
    "\"\"\"\n",
    "params_ix = [0, 1, 2, -1]\n",
    "for i, ix_param in enumerate(params_ix):\n",
    "    fig, ax = plt.subplots()\n",
    "    vb_params = params_hist[ix_param]\n",
    "    plot_gauss_exact_vb(ax, posterior_params, vb_params, bb=(0.45, 0.22))\n",
    "    pml.savefig(f\"unigauss_vb_{i}.pdf\")\n",
    "\n",
    "plt.show()"
   ],
   "metadata": {
    "collapsed": false,
    "ExecuteTime": {
     "end_time": "2024-03-20T12:39:55.107779Z",
     "start_time": "2024-03-20T12:39:54.432758Z"
    }
   },
   "id": "99f87d6409abdd77",
   "execution_count": 5
  },
  {
   "cell_type": "code",
   "outputs": [],
   "source": [],
   "metadata": {
    "collapsed": false
   },
   "id": "957e3df547d82bd"
  }
 ],
 "metadata": {
  "kernelspec": {
   "display_name": "ML",
   "language": "python",
   "name": "ml"
  },
  "language_info": {
   "codemirror_mode": {
    "name": "ipython",
    "version": 3
   },
   "file_extension": ".py",
   "mimetype": "text/x-python",
   "name": "python",
   "nbconvert_exporter": "python",
   "pygments_lexer": "ipython3",
   "version": "3.9.17"
  },
  "toc": {
   "base_numbering": 1,
   "nav_menu": {},
   "number_sections": true,
   "sideBar": true,
   "skip_h1_title": true,
   "title_cell": "Table of Contents",
   "title_sidebar": "Contents",
   "toc_cell": false,
   "toc_position": {},
   "toc_section_display": true,
   "toc_window_display": false
  },
  "varInspector": {
   "cols": {
    "lenName": 16,
    "lenType": 16,
    "lenVar": 40
   },
   "kernels_config": {
    "python": {
     "delete_cmd_postfix": "",
     "delete_cmd_prefix": "del ",
     "library": "var_list.py",
     "varRefreshCmd": "print(var_dic_list())"
    },
    "r": {
     "delete_cmd_postfix": ") ",
     "delete_cmd_prefix": "rm(",
     "library": "var_list.r",
     "varRefreshCmd": "cat(var_dic_list()) "
    }
   },
   "types_to_exclude": [
    "module",
    "function",
    "builtin_function_or_method",
    "instance",
    "_Feature"
   ],
   "window_display": false
  }
 },
 "nbformat": 4,
 "nbformat_minor": 5
}
