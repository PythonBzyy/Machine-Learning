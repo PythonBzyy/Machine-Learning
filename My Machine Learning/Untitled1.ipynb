{
 "cells": [
  {
   "cell_type": "code",
   "execution_count": 3,
   "id": "6de6b8eb-0a4a-4c1f-a547-35e6f9e25190",
   "metadata": {
    "execution": {
     "iopub.execute_input": "2023-05-25T03:35:13.746443Z",
     "iopub.status.busy": "2023-05-25T03:35:13.745280Z",
     "iopub.status.idle": "2023-05-25T03:35:13.757741Z",
     "shell.execute_reply": "2023-05-25T03:35:13.757285Z",
     "shell.execute_reply.started": "2023-05-25T03:35:13.746443Z"
    },
    "tags": []
   },
   "outputs": [],
   "source": [
    "a=1"
   ]
  },
  {
   "cell_type": "code",
   "execution_count": null,
   "id": "32f6d50a-54b2-4279-afc0-f6419667858d",
   "metadata": {},
   "outputs": [],
   "source": []
  },
  {
   "cell_type": "code",
   "execution_count": null,
   "id": "ca9c5609-86a2-4b27-9eee-a207caa09c01",
   "metadata": {},
   "outputs": [],
   "source": []
  },
  {
   "cell_type": "code",
   "execution_count": null,
   "id": "e83b81da-88ca-4cc8-a1a3-ab5ae6da0ba8",
   "metadata": {},
   "outputs": [],
   "source": []
  },
  {
   "cell_type": "code",
   "execution_count": null,
   "id": "c483e253-782f-4542-8069-67e285357e06",
   "metadata": {},
   "outputs": [],
   "source": []
  },
  {
   "cell_type": "code",
   "execution_count": null,
   "id": "a32fbdfd-f561-46ad-9374-0f0ac70df7f8",
   "metadata": {},
   "outputs": [],
   "source": []
  }
 ],
 "metadata": {
  "kernelspec": {
   "display_name": "Python 3 (ipykernel)",
   "language": "python",
   "name": "python3"
  },
  "language_info": {
   "codemirror_mode": {
    "name": "ipython",
    "version": 3
   },
   "file_extension": ".py",
   "mimetype": "text/x-python",
   "name": "python",
   "nbconvert_exporter": "python",
   "pygments_lexer": "ipython3",
   "version": "3.9.12"
  }
 },
 "nbformat": 4,
 "nbformat_minor": 5
}
