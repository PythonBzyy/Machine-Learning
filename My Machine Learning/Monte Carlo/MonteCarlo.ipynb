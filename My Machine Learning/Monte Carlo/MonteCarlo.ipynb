{
 "cells": [
  {
   "cell_type": "markdown",
   "id": "9ac8cf559c84702e",
   "metadata": {
    "collapsed": false
   },
   "source": [
    "# Monte Carlo\n",
    "Begin: 2024-03-16\n",
    "\n",
    "- 大多数的机器学习方法中使用的是参数的 **点估计 (point estimators)**，i.e.，$\\arg \\max_{\\theta} f_\\theta(X)$\n",
    "- 在估计分布的参数时：极大似然估计(MLE)和最大后验估计(MAP)\n",
    "- 在无法求得 $\\arg \\max_\\theta f_\\theta(X)$ 的解析解的情况下，可以采用一些迭代方法，如EM算法\n",
    "\n",
    "这些方法都是点估计，因为它们只是给我们一个“最佳”的单一的 $\\theta$。"
   ]
  },
  {
   "cell_type": "markdown",
   "id": "f267c45f0fea5b3f",
   "metadata": {
    "collapsed": false
   },
   "source": [
    "## Monte Carlo Integration\n",
    "\n",
    "### 1. 数学期望计算\n",
    "(1). 要计算随机变量的某个函数的期望 $\\mathbb E[f(x)]$，则需要计算以下积分：\n",
    "    $$\n",
    "        \\mathbb E [f(x)] = \\int f(x) \\, p(x) \\  \\mathrm{d} x, \\ x \\in \\mathbb R^n, \\ f: \\mathbb R^n \\rightarrow \\mathbb R^m\n",
    "    $$\n",
    "   $p(x)$ 是 $x$ 的目标分布，可以使用数值积分有效计算。\n",
    "<br>\n",
    "\n",
    "(2). 另一种方法是抽取多个随机样本，$x_n \\sim p(x)$，然后计算：\n",
    "    $$\n",
    "        \\mathbb E [f(x)]  \\approx \\frac{1}{N_S} \\sum_{i=1}^{N_S} f(x_i)\n",
    "    $$\n",
    "   这称为**蒙特卡罗积分**。可以证明精度在原则上与 $x$ 维度无关，仅取决于样本数量 $N_S$。\n",
    "<br>\n",
    "### 2. 积分计算\n",
    "对于一个一般的积分问题：$\\int_x h(x) \\ \\mathrm{d} x$，可以找一个与积分问题的定义域空间一样的比较简单的分布 $X \\sim P(X)$，并且满足 $\\int_x p(x) \\ \\mathrm{d}x = 1$。采样 $n$ 个样本点 $\\{x_1, x_2, \\dots, x_n\\}$，那么可以计算：\n",
    "$$\n",
    "    \\int_x h(x) \\ \\mathrm{d}x = \\int_x \\frac{h(x)}{p(x)} \\cdot p(x) \\ \\mathrm{d}x \\approx \\frac{1}{n} \\sum_{i=1}^n \\frac{h(x_i)}{p(x_i)}\n",
    "$$\n",
    "任何一个求积分的问题可以等价成求期望的问题。\n",
    "\n",
    "在许多机器学习问题中，我们实际上对后验分布更加感兴趣：\n",
    "$$\n",
    "    p(\\theta | \\text{Data}) \\propto p(\\text{Data} | \\theta) \\, p(\\theta)\n",
    "$$\n",
    "当我们需要得到这个后验分布的特征，如均值：$\\mathbb E_{p(\\theta | X)} [\\theta]$，它的积分形式为：\n",
    "$$\n",
    "    \\int_\\theta \\theta \\, p(\\theta | X) \\ \\mathrm{d} x\n",
    "$$\n",
    "但是当这个后验分布太过复杂时，我们无法计算积分，因此可以使用采样方法来 **近似** 这一均值：$\\theta_i \\sim\\limits^{\\text{iid}} p(\\theta | X)$\n",
    "$$\n",
    "    \\mathbb E_{p(\\theta | X)} [\\theta] \\approx \\frac{1}{n} \\sum_{i=1}^n \\theta_i\n",
    "$$\n"
   ]
  },
  {
   "cell_type": "markdown",
   "id": "d516341f61340441",
   "metadata": {
    "collapsed": false
   },
   "source": [
    "### Example 1\n",
    "**Q:** 求积分 $\\int_0^1 e^{-x^2 / 2} \\ \\mathrm{d}x$。\n",
    "\n",
    "**A:** 可以令 $p(x) = 1, \\ x \\sim  U(0, 1)$，在(0, 1)上进行均匀采样得到 $\\{x_1, x_2, \\dots, x_n\\}$，然后计算：\n",
    "$$\n",
    "    \\frac{1}{n} \\sum_{i=1}^n \\frac{h(x_i)}{p(x_i)} = \\frac{1}{n} \\sum_{i=1}^n h(x_i) = \\frac{1}{n} \\sum_{i=1}^n e^{-x_i^2 / 2}\n",
    "$$\n",
    "\n",
    "关于均匀分布采样的实现，可以使用 `np.random.random`。也可以从原理上实现：**线性同余**\n"
   ]
  },
  {
   "cell_type": "code",
   "execution_count": 1,
   "id": "4b95553ede0720f8",
   "metadata": {
    "collapsed": false,
    "ExecuteTime": {
     "end_time": "2024-03-16T14:37:51.551477Z",
     "start_time": "2024-03-16T14:37:50.959935Z"
    }
   },
   "outputs": [],
   "source": [
    "import numpy as np\n",
    "import matplotlib.pyplot as plt\n",
    "\n",
    "\n",
    "def generate_random(size=None, a=9, c=3, m=1024, seed=0):\n",
    "    rst = []\n",
    "    v = seed\n",
    "    for _ in range(0, size):\n",
    "        v = (a * v + c) % m\n",
    "        rst.append(v / m)\n",
    "    return np.asarray(rst)\n",
    "\n",
    "\n",
    "# 定义计算式\n",
    "def func(x):\n",
    "    return np.mean(np.exp(-0.5 * (x ** 2)))"
   ]
  },
  {
   "cell_type": "code",
   "execution_count": 2,
   "id": "405592123155c994",
   "metadata": {
    "collapsed": false,
    "ExecuteTime": {
     "end_time": "2024-03-16T14:37:56.811533Z",
     "start_time": "2024-03-16T14:37:56.787257Z"
    }
   },
   "outputs": [
    {
     "name": "stdout",
     "output_type": "stream",
     "text": [
      "0.8136962966706813\n",
      "0.8282664545917736\n",
      "0.8560033934887978\n",
      "0.8555805417838129\n"
     ]
    }
   ],
   "source": [
    "print(func(np.random.random(10)))\n",
    "print(func(np.random.random(100)))\n",
    "print(func(np.random.random(10000)))\n",
    "print(func(np.random.random(1000000)))"
   ]
  },
  {
   "cell_type": "markdown",
   "id": "18dde1b60e267d82",
   "metadata": {
    "collapsed": false
   },
   "source": [
    "### Example 2\n",
    "\n",
    "**Q:** 求积分 $\\int_{- \\infty}^{\\infty} x \\frac{1}{\\sqrt{2\\pi}} \\exp{(\\frac{-x^2}{2})} \\ \\mathrm{d}x$。\n",
    "\n",
    "**A:** 可以令 $p(x) = \\frac{1}{\\sqrt{2\\pi}} \\exp{(\\frac{-x^2}{2})}$，即 $p(x)$ 刚好是一个标准的正态分布，那么可以对 $p(x)$ 采样 $n$ 个样本 $\\{x_1, x_2, \\dots, x_n\\}$，就可以计算其积分的近似值：\n",
    "$$\n",
    "    \\frac{1}{n} \\sum_{i=1}^n \\frac{h(x_i)}{p(x_i)} = \\frac{1}{n} \\sum_{i=1}^n x_i\n",
    "$$\n",
    "标准的正态分布可以使用 `np.random.randn`，从原理上实现正态分布采样：**Box Muller**。"
   ]
  },
  {
   "cell_type": "code",
   "execution_count": null,
   "id": "b38ac3d2c126b55d",
   "metadata": {
    "collapsed": false
   },
   "outputs": [],
   "source": []
  }
 ],
 "metadata": {
  "kernelspec": {
   "display_name": "Python 3 (ipykernel)",
   "language": "python",
   "name": "python3"
  },
  "language_info": {
   "codemirror_mode": {
    "name": "ipython",
    "version": 3
   },
   "file_extension": ".py",
   "mimetype": "text/x-python",
   "name": "python",
   "nbconvert_exporter": "python",
   "pygments_lexer": "ipython3",
   "version": "3.10.12"
  }
 },
 "nbformat": 4,
 "nbformat_minor": 5
}
