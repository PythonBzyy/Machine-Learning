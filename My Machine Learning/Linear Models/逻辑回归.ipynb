{
 "cells": [
  {
   "cell_type": "markdown",
   "id": "5c534415",
   "metadata": {},
   "source": [
    "## 鸢尾花"
   ]
  },
  {
   "cell_type": "code",
   "execution_count": null,
   "id": "270c9184",
   "metadata": {},
   "outputs": [],
   "source": [
    "import numpy as np\n",
    "import pandas as pd\n",
    "import matplotlib.pyplot as plt\n",
    "\n",
    "from"
   ]
  }
 ],
 "metadata": {
  "kernelspec": {
   "display_name": "Python 3 (ipykernel)",
   "language": "python",
   "name": "python3"
  },
  "language_info": {
   "codemirror_mode": {
    "name": "ipython",
    "version": 3
   },
   "file_extension": ".py",
   "mimetype": "text/x-python",
   "name": "python",
   "nbconvert_exporter": "python",
   "pygments_lexer": "ipython3",
   "version": "3.9.12"
  }
 },
 "nbformat": 4,
 "nbformat_minor": 5
}
