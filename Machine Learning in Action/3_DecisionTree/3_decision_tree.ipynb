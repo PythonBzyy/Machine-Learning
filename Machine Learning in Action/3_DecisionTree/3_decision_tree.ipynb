{
 "cells": [
  {
   "cell_type": "markdown",
   "id": "05947bcb",
   "metadata": {},
   "source": [
    "# 决策树"
   ]
  },
  {
   "cell_type": "markdown",
   "id": "37dea838",
   "metadata": {},
   "source": [
    "## 手动实现"
   ]
  },
  {
   "cell_type": "markdown",
   "id": "7876704c",
   "metadata": {},
   "source": [
    "### 计算信息熵"
   ]
  },
  {
   "cell_type": "code",
   "execution_count": 25,
   "id": "e96b961c",
   "metadata": {
    "ExecuteTime": {
     "end_time": "2023-10-29T06:39:07.641632Z",
     "start_time": "2023-10-29T06:39:07.632393Z"
    }
   },
   "outputs": [],
   "source": [
    "import matplotlib.pyplot as plt\n",
    "from math import log\n",
    "import operator\n",
    "import pickle\n",
    "plt.rcParams['font.sans-serif'] = ['Microsoft YaHei']\n",
    "plt.rcParams['axes.unicode_minus'] = False  # 显示负号\n",
    "\n",
    "def calcShannonEnt(dataSet):\n",
    "    numEntires = len(dataSet)  #返回数据集的行数\n",
    "    labelCounts = {}  #保存每个标签(Label)出现次数的字典\n",
    "    for featVec in dataSet:  #对每组特征向量进行统计\n",
    "        currentLabel = featVec[-1]  #提取标签(Label)信息\n",
    "        if currentLabel not in labelCounts.keys():  #如果标签(Label)没有放入统计次数的字典,添加进去\n",
    "            labelCounts[currentLabel] = 0\n",
    "        labelCounts[currentLabel] += 1  #Label计数\n",
    "    shannonEnt = 0.0  #经验熵(香农熵)\n",
    "    for key in labelCounts:  #计算香农熵\n",
    "        prob = float(labelCounts[key]) / numEntires  #选择该标签(Label)的概率\n",
    "        shannonEnt -= prob * log(prob, 2)  #利用公式计算\n",
    "    return shannonEnt"
   ]
  },
  {
   "cell_type": "code",
   "execution_count": 11,
   "id": "f6461a80",
   "metadata": {
    "ExecuteTime": {
     "end_time": "2023-10-29T06:26:14.944485Z",
     "start_time": "2023-10-29T06:26:14.926092Z"
    }
   },
   "outputs": [],
   "source": [
    "def createDataSet():\n",
    "    dataSet = [\n",
    "        [0, 0, 0, 0, 'no'],  #数据集\n",
    "        [0, 0, 0, 1, 'no'],\n",
    "        [0, 1, 0, 1, 'yes'],\n",
    "        [0, 1, 1, 0, 'yes'],\n",
    "        [0, 0, 0, 0, 'no'],\n",
    "        [1, 0, 0, 0, 'no'],\n",
    "        [1, 0, 0, 1, 'no'],\n",
    "        [1, 1, 1, 1, 'yes'],\n",
    "        [1, 0, 1, 2, 'yes'],\n",
    "        [1, 0, 1, 2, 'yes'],\n",
    "        [2, 0, 1, 2, 'yes'],\n",
    "        [2, 0, 1, 1, 'yes'],\n",
    "        [2, 1, 0, 1, 'yes'],\n",
    "        [2, 1, 0, 2, 'yes'],\n",
    "        [2, 0, 0, 0, 'no']\n",
    "    ]\n",
    "    labels = ['年龄', '有工作', '有自己的房子', '信贷情况']  #特征标签\n",
    "    return dataSet, labels"
   ]
  },
  {
   "cell_type": "code",
   "execution_count": 13,
   "id": "5fb38ffa",
   "metadata": {
    "ExecuteTime": {
     "end_time": "2023-10-29T06:26:21.618878Z",
     "start_time": "2023-10-29T06:26:21.600068Z"
    }
   },
   "outputs": [
    {
     "name": "stdout",
     "output_type": "stream",
     "text": [
      "[[0, 0, 0, 0, 'no'], [0, 0, 0, 1, 'no'], [0, 1, 0, 1, 'yes'], [0, 1, 1, 0, 'yes'], [0, 0, 0, 0, 'no'], [1, 0, 0, 0, 'no'], [1, 0, 0, 1, 'no'], [1, 1, 1, 1, 'yes'], [1, 0, 1, 2, 'yes'], [1, 0, 1, 2, 'yes'], [2, 0, 1, 2, 'yes'], [2, 0, 1, 1, 'yes'], [2, 1, 0, 1, 'yes'], [2, 1, 0, 2, 'yes'], [2, 0, 0, 0, 'no']]\n",
      "0.9709505944546686\n"
     ]
    }
   ],
   "source": [
    "dataSet, features = createDataSet()\n",
    "print(dataSet)\n",
    "print(calcShannonEnt(dataSet))"
   ]
  },
  {
   "cell_type": "markdown",
   "id": "77917e81",
   "metadata": {},
   "source": [
    "### 划分数据集 - 按照给定特征"
   ]
  },
  {
   "cell_type": "code",
   "execution_count": 16,
   "id": "3ea7bc1c",
   "metadata": {
    "ExecuteTime": {
     "end_time": "2023-10-29T06:28:49.668260Z",
     "start_time": "2023-10-29T06:28:49.660740Z"
    }
   },
   "outputs": [],
   "source": [
    "def splitDataSet(dataSet, axis, value):\n",
    "    retDataSet = []  #创建返回的数据集列表\n",
    "    for featVec in dataSet:  #遍历数据集\n",
    "        if featVec[axis] == value:\n",
    "            reducedFeatVec = featVec[:axis]  #去掉axis特征\n",
    "            reducedFeatVec.extend(featVec[axis + 1:])  #将符合条件的添加到返回的数据集\n",
    "            retDataSet.append(reducedFeatVec)\n",
    "    return retDataSet"
   ]
  },
  {
   "cell_type": "markdown",
   "id": "48b31936",
   "metadata": {
    "ExecuteTime": {
     "end_time": "2023-10-29T06:28:21.991140Z",
     "start_time": "2023-10-29T06:28:21.985923Z"
    }
   },
   "source": [
    "### 选择最优特征"
   ]
  },
  {
   "cell_type": "code",
   "execution_count": 18,
   "id": "cb535a59",
   "metadata": {
    "ExecuteTime": {
     "end_time": "2023-10-29T06:29:35.000883Z",
     "start_time": "2023-10-29T06:29:34.986825Z"
    }
   },
   "outputs": [],
   "source": [
    "def chooseBestFeatureToSplit(dataSet):\n",
    "    numFeatures = len(dataSet[0]) - 1  #特征数量\n",
    "    baseEntropy = calcShannonEnt(dataSet)  #计算数据集的香农熵\n",
    "    bestInfoGain = 0.0  #信息增益\n",
    "    bestFeature = -1  #最优特征的索引值\n",
    "    for i in range(numFeatures):  #遍历所有特征\n",
    "        #获取dataSet的第i个所有特征\n",
    "        featList = [example[i] for example in dataSet]\n",
    "        uniqueVals = set(featList)  #创建set集合{},元素不可重复\n",
    "        newEntropy = 0.0  #经验条件熵\n",
    "        for value in uniqueVals:  #计算信息增益\n",
    "            subDataSet = splitDataSet(dataSet, i, value)  #subDataSet划分后的子集\n",
    "            prob = len(subDataSet) / float(len(dataSet))  #计算子集的概率\n",
    "            newEntropy += prob * calcShannonEnt(subDataSet)  #根据公式计算经验条件熵\n",
    "        infoGain = baseEntropy - newEntropy  #信息增益\n",
    "        print(\"第%d个特征的增益为%.3f\" % (i, infoGain)) # 打印每个特征的信息增益\n",
    "        if (infoGain > bestInfoGain):  #计算信息增益\n",
    "            bestInfoGain = infoGain  #更新信息增益，找到最大的信息增益\n",
    "            bestFeature = i  #记录信息增益最大的特征的索引值\n",
    "    return bestFeature"
   ]
  },
  {
   "cell_type": "code",
   "execution_count": 19,
   "id": "1f17aae2",
   "metadata": {
    "ExecuteTime": {
     "end_time": "2023-10-29T06:29:35.325069Z",
     "start_time": "2023-10-29T06:29:35.309948Z"
    }
   },
   "outputs": [
    {
     "name": "stdout",
     "output_type": "stream",
     "text": [
      "第0个特征的增益为0.083\n",
      "第1个特征的增益为0.324\n",
      "第2个特征的增益为0.420\n",
      "第3个特征的增益为0.363\n",
      "最优特征索引值:2\n"
     ]
    }
   ],
   "source": [
    "dataSet, features = createDataSet()\n",
    "print(\"最优特征索引值:\" + str(chooseBestFeatureToSplit(dataSet)))"
   ]
  },
  {
   "cell_type": "markdown",
   "id": "e00c9a6c",
   "metadata": {},
   "source": [
    "### 构建决策树"
   ]
  },
  {
   "cell_type": "code",
   "execution_count": 20,
   "id": "46df0917",
   "metadata": {
    "ExecuteTime": {
     "end_time": "2023-10-29T06:32:45.172098Z",
     "start_time": "2023-10-29T06:32:45.158466Z"
    }
   },
   "outputs": [],
   "source": [
    "# 统计classList中出现此处最多的元素(类标签)\n",
    "def majorityCnt(classList):\n",
    "    classCount = {}\n",
    "    for vote in classList:  #统计classList中每个元素出现的次数\n",
    "        if vote not in classCount.keys(): classCount[vote] = 0\n",
    "        classCount[vote] += 1\n",
    "    sortedClassCount = sorted(classCount.items(),\n",
    "                              key=operator.itemgetter(1),\n",
    "                              reverse=True)  #根据字典的值降序排序\n",
    "    return sortedClassCount[0][0]\n",
    "\n",
    "# 创建决策树\n",
    "def createTree(dataSet, labels, featLabels):\n",
    "    classList = [example[-1] for example in dataSet]  #取分类标签(是否放贷:yes or no)\n",
    "    if classList.count(classList[0]) == len(classList):  #如果类别完全相同则停止继续划分\n",
    "        return classList[0]\n",
    "    if len(dataSet[0]) == 1:  #遍历完所有特征时返回出现次数最多的类标签\n",
    "        return majorityCnt(classList)\n",
    "    bestFeat = chooseBestFeatureToSplit(dataSet)  #选择最优特征\n",
    "    bestFeatLabel = labels[bestFeat]  #最优特征的标签\n",
    "    featLabels.append(bestFeatLabel)\n",
    "    myTree = {bestFeatLabel: {}}  #根据最优特征的标签生成树\n",
    "    del (labels[bestFeat])  #删除已经使用特征标签\n",
    "    featValues = [example[bestFeat] for example in dataSet]  #得到训练集中所有最优特征的属性值\n",
    "    uniqueVals = set(featValues)  #去掉重复的属性值\n",
    "    for value in uniqueVals:  #遍历特征，创建决策树。\n",
    "        myTree[bestFeatLabel][value] = createTree(\n",
    "            splitDataSet(dataSet, bestFeat, value), labels, featLabels)\n",
    "    return myTree"
   ]
  },
  {
   "cell_type": "code",
   "execution_count": 21,
   "id": "20e58354",
   "metadata": {
    "ExecuteTime": {
     "end_time": "2023-10-29T06:32:55.063939Z",
     "start_time": "2023-10-29T06:32:55.045742Z"
    }
   },
   "outputs": [
    {
     "name": "stdout",
     "output_type": "stream",
     "text": [
      "第0个特征的增益为0.083\n",
      "第1个特征的增益为0.324\n",
      "第2个特征的增益为0.420\n",
      "第3个特征的增益为0.363\n",
      "第0个特征的增益为0.252\n",
      "第1个特征的增益为0.918\n",
      "第2个特征的增益为0.474\n",
      "{'有自己的房子': {0: {'有工作': {0: 'no', 1: 'yes'}}, 1: 'yes'}}\n"
     ]
    }
   ],
   "source": [
    "dataSet, labels = createDataSet()\n",
    "featLabels = []\n",
    "myTree = createTree(dataSet, labels, featLabels)\n",
    "print(myTree)"
   ]
  },
  {
   "cell_type": "markdown",
   "id": "3d511a89",
   "metadata": {},
   "source": [
    "### 决策树可视化"
   ]
  },
  {
   "cell_type": "code",
   "execution_count": 27,
   "id": "3b2b475a",
   "metadata": {
    "ExecuteTime": {
     "end_time": "2023-10-29T06:39:44.602340Z",
     "start_time": "2023-10-29T06:39:44.578681Z"
    }
   },
   "outputs": [],
   "source": [
    "# 获取决策树叶子节点的数目\n",
    "def getNumLeafs(myTree):\n",
    "    numLeafs = 0  #初始化叶子\n",
    "    firstStr = next(\n",
    "        iter(myTree)\n",
    "    )  #python3中myTree.keys()返回的是dict_keys,不在是list,所以不能使用myTree.keys()[0]的方法获取结点属性，可以使用list(myTree.keys())[0]\n",
    "    secondDict = myTree[firstStr]  #获取下一组字典\n",
    "    for key in secondDict.keys():\n",
    "        if type(secondDict[key]\n",
    "                ).__name__ == 'dict':  #测试该结点是否为字典，如果不是字典，代表此结点为叶子结点\n",
    "            numLeafs += getNumLeafs(secondDict[key])\n",
    "        else:\n",
    "            numLeafs += 1\n",
    "    return numLeafs\n",
    "\n",
    "\n",
    "# 获取决策树层数\n",
    "def getTreeDepth(myTree):\n",
    "    maxDepth = 0  #初始化决策树深度\n",
    "    firstStr = next(\n",
    "        iter(myTree)\n",
    "    )  #python3中myTree.keys()返回的是dict_keys,不在是list,所以不能使用myTree.keys()[0]的方法获取结点属性，可以使用list(myTree.keys())[0]\n",
    "    secondDict = myTree[firstStr]  #获取下一个字典\n",
    "    for key in secondDict.keys():\n",
    "        if type(secondDict[key]\n",
    "                ).__name__ == 'dict':  #测试该结点是否为字典，如果不是字典，代表此结点为叶子结点\n",
    "            thisDepth = 1 + getTreeDepth(secondDict[key])\n",
    "        else:\n",
    "            thisDepth = 1\n",
    "        if thisDepth > maxDepth: maxDepth = thisDepth  #更新层数\n",
    "    return maxDepth\n",
    "\n",
    "\n",
    "# 绘制节点\n",
    "def plotNode(nodeTxt, centerPt, parentPt, nodeType):\n",
    "    arrow_args = dict(arrowstyle=\"<-\")  #定义箭头格式\n",
    "#     font = FontProperties(fname=r\"c:\\windows\\fonts\\simsun.ttc\",\n",
    "#                           size=14)  #设置中文字体\n",
    "    createPlot.ax1.annotate(\n",
    "        nodeTxt,\n",
    "        xy=parentPt,\n",
    "        xycoords='axes fraction',  #绘制结点\n",
    "        xytext=centerPt,\n",
    "        textcoords='axes fraction',\n",
    "        va=\"center\",\n",
    "        ha=\"center\",\n",
    "        bbox=nodeType,\n",
    "        arrowprops=arrow_args)\n",
    "\n",
    "\n",
    "# 标注有向边属性值\n",
    "def plotMidText(cntrPt, parentPt, txtString):\n",
    "    xMid = (parentPt[0] - cntrPt[0]) / 2.0 + cntrPt[0]  #计算标注位置\n",
    "    yMid = (parentPt[1] - cntrPt[1]) / 2.0 + cntrPt[1]\n",
    "    createPlot.ax1.text(xMid,\n",
    "                        yMid,\n",
    "                        txtString,\n",
    "                        va=\"center\",\n",
    "                        ha=\"center\",\n",
    "                        rotation=30)\n",
    "\n",
    "\n",
    "# 绘制决策树\n",
    "def plotTree(myTree, parentPt, nodeTxt):\n",
    "    decisionNode = dict(boxstyle=\"sawtooth\", fc=\"0.8\")  #设置结点格式\n",
    "    leafNode = dict(boxstyle=\"round4\", fc=\"0.8\")  #设置叶结点格式\n",
    "    numLeafs = getNumLeafs(myTree)  #获取决策树叶结点数目，决定了树的宽度\n",
    "    depth = getTreeDepth(myTree)  #获取决策树层数\n",
    "    firstStr = next(iter(myTree))  #下个字典\n",
    "    cntrPt = (plotTree.xOff + (1.0 + float(numLeafs)) / 2.0 / plotTree.totalW,\n",
    "              plotTree.yOff)  #中心位置\n",
    "    plotMidText(cntrPt, parentPt, nodeTxt)  #标注有向边属性值\n",
    "    plotNode(firstStr, cntrPt, parentPt, decisionNode)  #绘制结点\n",
    "    secondDict = myTree[firstStr]  #下一个字典，也就是继续绘制子结点\n",
    "    plotTree.yOff = plotTree.yOff - 1.0 / plotTree.totalD  #y偏移\n",
    "    for key in secondDict.keys():\n",
    "        if type(secondDict[key]\n",
    "                ).__name__ == 'dict':  #测试该结点是否为字典，如果不是字典，代表此结点为叶子结点\n",
    "            plotTree(secondDict[key], cntrPt, str(key))  #不是叶结点，递归调用继续绘制\n",
    "        else:  #如果是叶结点，绘制叶结点，并标注有向边属性值\n",
    "            plotTree.xOff = plotTree.xOff + 1.0 / plotTree.totalW\n",
    "            plotNode(secondDict[key], (plotTree.xOff, plotTree.yOff), cntrPt,\n",
    "                     leafNode)\n",
    "            plotMidText((plotTree.xOff, plotTree.yOff), cntrPt, str(key))\n",
    "    plotTree.yOff = plotTree.yOff + 1.0 / plotTree.totalD\n",
    "\n",
    "\n",
    "def createPlot(inTree):\n",
    "    fig = plt.figure(1, facecolor='white')  #创建fig\n",
    "    fig.clf()  #清空fig\n",
    "    axprops = dict(xticks=[], yticks=[])\n",
    "    createPlot.ax1 = plt.subplot(111, frameon=False, **axprops)  #去掉x、y轴\n",
    "    plotTree.totalW = float(getNumLeafs(inTree))  #获取决策树叶结点数目\n",
    "    plotTree.totalD = float(getTreeDepth(inTree))  #获取决策树层数\n",
    "    plotTree.xOff = -0.5 / plotTree.totalW\n",
    "    plotTree.yOff = 1.0\n",
    "    #x偏移\n",
    "    plotTree(inTree, (0.5, 1.0), '')  #绘制决策树\n",
    "    plt.show()"
   ]
  },
  {
   "cell_type": "code",
   "execution_count": 28,
   "id": "57a9bc1c",
   "metadata": {
    "ExecuteTime": {
     "end_time": "2023-10-29T06:39:45.319734Z",
     "start_time": "2023-10-29T06:39:45.154521Z"
    }
   },
   "outputs": [
    {
     "name": "stdout",
     "output_type": "stream",
     "text": [
      "第0个特征的增益为0.083\n",
      "第1个特征的增益为0.324\n",
      "第2个特征的增益为0.420\n",
      "第3个特征的增益为0.363\n",
      "第0个特征的增益为0.252\n",
      "第1个特征的增益为0.918\n",
      "第2个特征的增益为0.474\n",
      "{'有自己的房子': {0: {'有工作': {0: 'no', 1: 'yes'}}, 1: 'yes'}}\n"
     ]
    },
    {
     "data": {
      "image/png": "[encoded data removed]",
      "text/plain": [
       "<Figure size 640x480 with 1 Axes>"
      ]
     },
     "metadata": {},
     "output_type": "display_data"
    }
   ],
   "source": [
    "dataSet, labels = createDataSet()\n",
    "featLabels = []\n",
    "myTree = createTree(dataSet, labels, featLabels)\n",
    "print(myTree)  \n",
    "createPlot(myTree)"
   ]
  },
  {
   "cell_type": "markdown",
   "id": "7c8581ec",
   "metadata": {},
   "source": [
    "### test"
   ]
  },
  {
   "cell_type": "code",
   "execution_count": 30,
   "id": "28ebc3eb",
   "metadata": {
    "ExecuteTime": {
     "end_time": "2023-10-29T06:41:17.858341Z",
     "start_time": "2023-10-29T06:41:17.841163Z"
    }
   },
   "outputs": [
    {
     "name": "stdout",
     "output_type": "stream",
     "text": [
      "放贷\n"
     ]
    }
   ],
   "source": [
    "def classify(inputTree, featLabels, testVec):\n",
    "    firstStr = next(iter(inputTree))  #获取决策树结点\n",
    "    secondDict = inputTree[firstStr]  #下一个字典\n",
    "    featIndex = featLabels.index(firstStr)\n",
    "    for key in secondDict.keys():\n",
    "        if testVec[featIndex] == key:\n",
    "            if type(secondDict[key]).__name__ == 'dict':\n",
    "                classLabel = classify(secondDict[key], featLabels, testVec)\n",
    "            else:\n",
    "                classLabel = secondDict[key]\n",
    "    return classLabel\n",
    "\n",
    "\n",
    "\n",
    "testVec = [0, 1]  #测试数据\n",
    "result = classify(myTree, featLabels, testVec)\n",
    "if result == 'yes':\n",
    "    print('放贷')\n",
    "if result == 'no':\n",
    "    print('不放贷')"
   ]
  },
  {
   "cell_type": "markdown",
   "id": "cb4928c7",
   "metadata": {},
   "source": [
    "## 使用sklearn实现"
   ]
  },
  {
   "cell_type": "code",
   "execution_count": null,
   "id": "b5e82e72",
   "metadata": {},
   "outputs": [],
   "source": []
  }
 ],
 "metadata": {
  "kernelspec": {
   "display_name": "ML",
   "language": "python",
   "name": "ml"
  },
  "language_info": {
   "codemirror_mode": {
    "name": "ipython",
    "version": 3
   },
   "file_extension": ".py",
   "mimetype": "text/x-python",
   "name": "python",
   "nbconvert_exporter": "python",
   "pygments_lexer": "ipython3",
   "version": "3.9.17"
  },
  "toc": {
   "base_numbering": 1,
   "nav_menu": {},
   "number_sections": true,
   "sideBar": true,
   "skip_h1_title": true,
   "title_cell": "Table of Contents",
   "title_sidebar": "Contents",
   "toc_cell": false,
   "toc_position": {},
   "toc_section_display": true,
   "toc_window_display": false
  },
  "varInspector": {
   "cols": {
    "lenName": 16,
    "lenType": 16,
    "lenVar": 40
   },
   "kernels_config": {
    "python": {
     "delete_cmd_postfix": "",
     "delete_cmd_prefix": "del ",
     "library": "var_list.py",
     "varRefreshCmd": "print(var_dic_list())"
    },
    "r": {
     "delete_cmd_postfix": ") ",
     "delete_cmd_prefix": "rm(",
     "library": "var_list.r",
     "varRefreshCmd": "cat(var_dic_list()) "
    }
   },
   "types_to_exclude": [
    "module",
    "function",
    "builtin_function_or_method",
    "instance",
    "_Feature"
   ],
   "window_display": false
  }
 },
 "nbformat": 4,
 "nbformat_minor": 5
}
