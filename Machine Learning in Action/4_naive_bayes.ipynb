{
 "cells": [
  {
   "cell_type": "code",
   "execution_count": 11,
   "id": "24178303",
   "metadata": {
    "ExecuteTime": {
     "end_time": "2023-09-27T11:06:31.163335Z",
     "start_time": "2023-09-27T11:06:31.146261Z"
    }
   },
   "outputs": [],
   "source": [
    "import numpy as np\n",
    "import pandas as pd\n",
    "import matplotlib as mpl\n",
    "import matplotlib.pyplot as plt\n",
    "import seaborn as sns\n",
    "from functools import reduce"
   ]
  },
  {
   "cell_type": "markdown",
   "id": "0d646ac0",
   "metadata": {},
   "source": [
    "## 准备：从文本制作词向量"
   ]
  },
  {
   "cell_type": "markdown",
   "id": "d34d1520",
   "metadata": {},
   "source": [
    "以词向量或标记向量的形式查看文本，即将句子转换为向量。\n",
    "\n",
    "将每个单独的文档转换为词汇表中的向量"
   ]
  },
  {
   "cell_type": "code",
   "execution_count": 1,
   "id": "d7bc34a9",
   "metadata": {
    "ExecuteTime": {
     "end_time": "2023-09-27T10:00:21.270465Z",
     "start_time": "2023-09-27T10:00:21.259505Z"
    }
   },
   "outputs": [],
   "source": [
    "def loadDataSet():\n",
    "    postingList = [\n",
    "        ['my', 'dog', 'has', 'flea', 'problems', 'help', 'please'],\n",
    "        ['maybe', 'not', 'take', 'him', 'to', 'dog', 'park', 'stupid'],\n",
    "        ['my', 'dalmation', 'is', 'so', 'cute', 'I', 'love', 'him'],\n",
    "        ['stop', 'posting', 'stupid', 'worthless', 'garbage'],\n",
    "        ['mr', 'licks', 'ate', 'my', 'steak', 'how', 'to', 'stop', 'him'],\n",
    "        ['quit', 'buying', 'worthless', 'dog', 'food', 'stupid']\n",
    "    ]\n",
    "    classVec = [0, 1, 0, 1, 0, 1]  #1 is abusive, 0 not\n",
    "    return postingList, classVec"
   ]
  },
  {
   "cell_type": "markdown",
   "id": "fc0dbfb2",
   "metadata": {},
   "source": [
    "- 第一个函数创建一些示例数据进行实验。从 loadDatSet() 返回的第一个变量是来自达尔马提亚（斑点狗）爱好者留言板的一组标记化文档。文本已被分解为一组标记。标点符号也已从该文本中删除。\n",
    "- loadDatSet() 的第二个变量返回一组类标签。这里有两个类别，辱骂类和非辱骂类。\n",
    "- postingList - 实验样本切分的词条\n",
    "- classVec - 类别标签向量"
   ]
  },
  {
   "cell_type": "code",
   "execution_count": 2,
   "id": "0ee2e8b5",
   "metadata": {
    "ExecuteTime": {
     "end_time": "2023-09-27T10:00:22.700737Z",
     "start_time": "2023-09-27T10:00:22.692419Z"
    }
   },
   "outputs": [],
   "source": [
    "def createVocabList(dataSet):\n",
    "    vocabSet = set([])  #create empty set\n",
    "    for document in dataSet:\n",
    "        vocabSet = vocabSet | set(document)  #union of the two sets\n",
    "    return list(vocabSet)"
   ]
  },
  {
   "cell_type": "markdown",
   "id": "3cd454a0",
   "metadata": {},
   "source": [
    "- 函数 createVocabList() 将创建所有文档中所有唯一单词的列表。首先，创建一个空集。接下来，将每个文档中的新集合附加到该集合中。\n",
    "- dataSet - 整理的样本数据集\n",
    "- vocabSet - 返回不重复的词条列表，也就是词汇表"
   ]
  },
  {
   "cell_type": "code",
   "execution_count": 4,
   "id": "3d2e52dd",
   "metadata": {
    "ExecuteTime": {
     "end_time": "2023-09-27T10:00:30.126301Z",
     "start_time": "2023-09-27T10:00:30.117287Z"
    }
   },
   "outputs": [],
   "source": [
    "def setOfWords2Vec(vocabList, inputSet):\n",
    "    returnVec = [0] * len(vocabList)\n",
    "    for word in inputSet:\n",
    "        if word in vocabList:\n",
    "            returnVec[vocabList.index(word)] = 1\n",
    "        else:\n",
    "            print(\"the word: %s is not in my Vocabulary!\" % word)\n",
    "    return returnVec"
   ]
  },
  {
   "cell_type": "markdown",
   "id": "f6a76bc9",
   "metadata": {},
   "source": [
    "- vocabList - createVocabList返回的列表\n",
    "- inputSet - 切分的词条列表\n",
    "- returnVec - 文档向量,词集模型\n",
    "- 最后，在获得词汇列表后，使用函数 setOfWords2Vec()，该函数获取词汇列表和文档，并输出由 1 和 0 组成的向量来表示词汇表中的单词是否存在于给定文档中。然后创建一个与词汇列表长度相同的向量并用 0 填充它。 \n",
    "- 接下来浏览文档中的单词，如果该单词在词汇列表中，则在输出向量中将其值设置为 1。如果一切顺利，不需要测试某个单词是否在 vocabList 中，但稍后可能会使用它。"
   ]
  },
  {
   "cell_type": "markdown",
   "id": "1e367420",
   "metadata": {},
   "source": [
    "**函数实际效果**"
   ]
  },
  {
   "cell_type": "code",
   "execution_count": 5,
   "id": "43c296e8",
   "metadata": {
    "ExecuteTime": {
     "end_time": "2023-09-27T10:00:31.532188Z",
     "start_time": "2023-09-27T10:00:31.517080Z"
    }
   },
   "outputs": [
    {
     "name": "stdout",
     "output_type": "stream",
     "text": [
      "['my', 'dog', 'has', 'flea', 'problems', 'help', 'please']\n",
      "['maybe', 'not', 'take', 'him', 'to', 'dog', 'park', 'stupid']\n",
      "['my', 'dalmation', 'is', 'so', 'cute', 'I', 'love', 'him']\n",
      "['stop', 'posting', 'stupid', 'worthless', 'garbage']\n",
      "['mr', 'licks', 'ate', 'my', 'steak', 'how', 'to', 'stop', 'him']\n",
      "['quit', 'buying', 'worthless', 'dog', 'food', 'stupid']\n",
      "[0, 1, 0, 1, 0, 1]\n"
     ]
    }
   ],
   "source": [
    "postingList, classVec = loadDataSet()\n",
    "for each in postingList:\n",
    "    print(each)\n",
    "print(classVec)"
   ]
  },
  {
   "cell_type": "markdown",
   "id": "e47293c3",
   "metadata": {},
   "source": [
    "- postingList是存放词条列表中，classVec是存放每个词条的所属类别，1代表侮辱类 ，0代表非侮辱类。"
   ]
  },
  {
   "cell_type": "markdown",
   "id": "3503f3a9",
   "metadata": {},
   "source": [
    "## 训练：根据词向量计算概率"
   ]
  },
  {
   "cell_type": "markdown",
   "id": "4b78bf34",
   "metadata": {},
   "source": [
    "得到词向量后，通过词向量训练朴素贝叶斯分类器。"
   ]
  },
  {
   "cell_type": "code",
   "execution_count": 6,
   "id": "0bb4d90e",
   "metadata": {
    "ExecuteTime": {
     "end_time": "2023-09-27T10:00:33.241507Z",
     "start_time": "2023-09-27T10:00:33.230062Z"
    }
   },
   "outputs": [],
   "source": [
    "def trainNB0(trainMatrix, trainCategory):\n",
    "    numTrainDocs = len(trainMatrix)  #计算训练的文档数目\n",
    "    numWords = len(trainMatrix[0])  #计算每篇文档的词条数\n",
    "    pAbusive = sum(trainCategory) / float(numTrainDocs)  #文档属于侮辱类的概率\n",
    "    p0Num = np.zeros(numWords)\n",
    "    p1Num = np.zeros(numWords)  #创建numpy.zeros数组,词条出现数初始化为0\n",
    "    p0Denom = 0.0\n",
    "    p1Denom = 0.0  #分母初始化为0\n",
    "    for i in range(numTrainDocs):\n",
    "        if trainCategory[i] == 1:  #统计属于侮辱类的条件概率所需的数据，即P(w0|1),P(w1|1),P(w2|1)···\n",
    "            p1Num += trainMatrix[i]\n",
    "            p1Denom += sum(trainMatrix[i])\n",
    "        else:  #统计属于非侮辱类的条件概率所需的数据，即P(w0|0),P(w1|0),P(w2|0)···\n",
    "            p0Num += trainMatrix[i]\n",
    "            p0Denom += sum(trainMatrix[i])\n",
    "    p1Vect = p1Num / p1Denom\n",
    "    p0Vect = p0Num / p0Denom\n",
    "    return p0Vect, p1Vect, pAbusive  #返回属于侮辱类的条件概率数组，属于非侮辱类的条件概率数组，文档属于侮辱类的概率"
   ]
  },
  {
   "cell_type": "markdown",
   "id": "a2b9221b",
   "metadata": {},
   "source": [
    "- trainMatrix - 训练文档矩阵，即setOfWords2Vec返回的returnVec构成的矩阵\n",
    "- trainCategory - 训练类别标签向量，即loadDataSet返回的classVec\n",
    "- p0Vect - 侮辱类的条件概率数组\n",
    "- p1Vect - 非侮辱类的条件概率数组\n",
    "- pAbusive - 文档属于侮辱类的概率"
   ]
  },
  {
   "cell_type": "code",
   "execution_count": 7,
   "id": "64db843b",
   "metadata": {
    "ExecuteTime": {
     "end_time": "2023-09-27T10:00:34.097065Z",
     "start_time": "2023-09-27T10:00:34.080033Z"
    }
   },
   "outputs": [
    {
     "name": "stdout",
     "output_type": "stream",
     "text": [
      "myVocabList:\n",
      " ['flea', 'maybe', 'garbage', 'food', 'not', 'stupid', 'has', 'take', 'dalmation', 'mr', 'ate', 'my', 'quit', 'steak', 'buying', 'problems', 'love', 'cute', 'please', 'help', 'park', 'to', 'so', 'is', 'worthless', 'posting', 'I', 'stop', 'him', 'licks', 'dog', 'how']\n",
      "p0V:\n",
      " [0.04166667 0.         0.         0.         0.         0.\n",
      " 0.04166667 0.         0.04166667 0.04166667 0.04166667 0.125\n",
      " 0.         0.04166667 0.         0.04166667 0.04166667 0.04166667\n",
      " 0.04166667 0.04166667 0.         0.04166667 0.04166667 0.04166667\n",
      " 0.         0.         0.04166667 0.04166667 0.08333333 0.04166667\n",
      " 0.04166667 0.04166667]\n",
      "p1V:\n",
      " [0.         0.05263158 0.05263158 0.05263158 0.05263158 0.15789474\n",
      " 0.         0.05263158 0.         0.         0.         0.\n",
      " 0.05263158 0.         0.05263158 0.         0.         0.\n",
      " 0.         0.         0.05263158 0.05263158 0.         0.\n",
      " 0.10526316 0.05263158 0.         0.05263158 0.05263158 0.\n",
      " 0.10526316 0.        ]\n",
      "classVec:\n",
      " [0, 1, 0, 1, 0, 1]\n",
      "pAb:\n",
      " 0.5\n"
     ]
    }
   ],
   "source": [
    "postingList, classVec = loadDataSet()\n",
    "myVocabList = createVocabList(postingList)\n",
    "print('myVocabList:\\n', myVocabList)\n",
    "trainMat = []\n",
    "for postinDoc in postingList:\n",
    "    trainMat.append(setOfWords2Vec(myVocabList, postinDoc))\n",
    "p0V, p1V, pAb = trainNB0(trainMat, classVec)\n",
    "print('p0V:\\n', p0V)\n",
    "print('p1V:\\n', p1V)\n",
    "print('classVec:\\n', classVec)\n",
    "print('pAb:\\n', pAb)"
   ]
  },
  {
   "cell_type": "markdown",
   "id": "2663e04d",
   "metadata": {},
   "source": [
    "- p0V存放的是每个单词属于类别0，也就是非侮辱类词汇的概率。比如p0V的倒数第6个概率，就是stupid这个单词属于非侮辱类的概率为0。同理，p1V的倒数第6个概率，就是stupid这个单词属于侮辱类的概率为0.15789474，也就是约等于15.79%的概率。\n",
    "- stupid的中文意思是蠢货，显而易见，这个单词属于侮辱类。\n",
    "- pAb是所有侮辱类的样本占所有样本的概率，从classVec中可以看出，一用有3个侮辱类，3个非侮辱类。所以侮辱类的概率是0.5。因此p0V存放的就是P(him|非侮辱类) = 0.0833、P(is|非侮辱类) = 0.0417，一直到P(dog|非侮辱类) = 0.0417，这些单词的条件概率。同理，p1V存放的就是各个单词属于侮辱类的条件概率。pAb就是先验概率。"
   ]
  },
  {
   "cell_type": "markdown",
   "id": "fe97a32c",
   "metadata": {},
   "source": [
    "## 测试：根据现实条件修改分类器"
   ]
  },
  {
   "cell_type": "code",
   "execution_count": 8,
   "id": "7cc01fde",
   "metadata": {
    "ExecuteTime": {
     "end_time": "2023-09-27T10:00:36.014102Z",
     "start_time": "2023-09-27T10:00:36.005400Z"
    }
   },
   "outputs": [],
   "source": [
    "def classifyNB(vec2Classify, p0Vec, p1Vec, pClass1):\n",
    "    p1 = reduce(lambda x, y: x * y, vec2Classify * p1Vec) * pClass1  #对应元素相乘\n",
    "    p0 = reduce(lambda x, y: x * y, vec2Classify * p0Vec) * (1.0 - pClass1)\n",
    "    print('p0:', p0)\n",
    "    print('p1:', p1)\n",
    "    if p1 > p0:\n",
    "        return 1\n",
    "    else:\n",
    "        return 0"
   ]
  },
  {
   "cell_type": "markdown",
   "id": "d849a8eb",
   "metadata": {},
   "source": [
    "- vec2Classify - 待分类的词条数组\n",
    "- p0Vec - 非侮辱类的条件概率数组\n",
    "- p1Vec -侮辱类的条件概率数组\n",
    "- pClass1 - 文档属于侮辱类的概率\n",
    "- returns: 0 - 属于非侮辱类; 1 - 属于侮辱类"
   ]
  },
  {
   "cell_type": "code",
   "execution_count": 9,
   "id": "aeb975bb",
   "metadata": {
    "ExecuteTime": {
     "end_time": "2023-09-27T10:00:37.436405Z",
     "start_time": "2023-09-27T10:00:37.416485Z"
    }
   },
   "outputs": [],
   "source": [
    "def testingNB():\n",
    "    listOPosts, listClasses = loadDataSet()  #创建实验样本\n",
    "    myVocabList = createVocabList(listOPosts)  #创建词汇表\n",
    "    trainMat = []\n",
    "    for postinDoc in listOPosts:\n",
    "        trainMat.append(setOfWords2Vec(myVocabList, postinDoc))  #将实验样本向量化\n",
    "    p0V, p1V, pAb = trainNB0(np.array(trainMat),\n",
    "                             np.array(listClasses))  #训练朴素贝叶斯分类器\n",
    "    testEntry = ['love', 'my', 'dalmation']  #测试样本1\n",
    "    thisDoc = np.array(setOfWords2Vec(myVocabList, testEntry))  #测试样本向量化\n",
    "    if classifyNB(thisDoc, p0V, p1V, pAb):\n",
    "        print(testEntry, '属于侮辱类')  #执行分类并打印分类结果\n",
    "    else:\n",
    "        print(testEntry, '属于非侮辱类')  #执行分类并打印分类结果\n",
    "    testEntry = ['stupid', 'garbage']  #测试样本2\n",
    "\n",
    "    thisDoc = np.array(setOfWords2Vec(myVocabList, testEntry))  #测试样本向量化\n",
    "    if classifyNB(thisDoc, p0V, p1V, pAb):\n",
    "        print(testEntry, '属于侮辱类')  #执行分类并打印分类结果\n",
    "    else:\n",
    "        print(testEntry, '属于非侮辱类')"
   ]
  },
  {
   "cell_type": "code",
   "execution_count": 12,
   "id": "9058844a",
   "metadata": {
    "ExecuteTime": {
     "end_time": "2023-09-27T11:06:54.459045Z",
     "start_time": "2023-09-27T11:06:54.444917Z"
    }
   },
   "outputs": [
    {
     "name": "stdout",
     "output_type": "stream",
     "text": [
      "p0: 0.0\n",
      "p1: 0.0\n",
      "['love', 'my', 'dalmation'] 属于非侮辱类\n",
      "p0: 0.0\n",
      "p1: 0.0\n",
      "['stupid', 'garbage'] 属于非侮辱类\n"
     ]
    }
   ],
   "source": [
    "testingNB()"
   ]
  },
  {
   "cell_type": "markdown",
   "id": "357943a1",
   "metadata": {
    "ExecuteTime": {
     "end_time": "2023-09-27T11:07:30.437307Z",
     "start_time": "2023-09-27T11:07:30.431306Z"
    }
   },
   "source": [
    "- 创建了两个测试样本：['love', 'my', 'dalmation']和['stupid', 'garbage']"
   ]
  },
  {
   "cell_type": "markdown",
   "id": "2eb5a64a",
   "metadata": {},
   "source": [
    "**Problems：**\n",
    "- 发现无法正确分类，原因：利用贝叶斯分类器对文档进行分类时，要计算多个概率的乘积以获得文档属于某个类别的概率，即计算p(w0|1)p(w1|1)p(w2|1)。如果其中有一个概率值为0，那么最后的成绩也为0。\n",
    "- 除此之外，另外一个遇到的问题就是**下溢出**，这是由于太多很小的数相乘造成的。为了解决这个问题，对乘积结果取**自然对数**。通过求对数可以避免下溢出或者浮点数舍入导致的错误。同时，采用自然对数进行处理不会有任何损失。"
   ]
  },
  {
   "cell_type": "markdown",
   "id": "0ed5309e",
   "metadata": {},
   "source": [
    "修改test函数和classifyNB函数："
   ]
  },
  {
   "cell_type": "code",
   "execution_count": 16,
   "id": "4d5cab18",
   "metadata": {
    "ExecuteTime": {
     "end_time": "2023-09-27T11:15:16.486260Z",
     "start_time": "2023-09-27T11:15:16.465861Z"
    }
   },
   "outputs": [],
   "source": [
    "def trainNB0(trainMatrix, trainCategory):\n",
    "    numTrainDocs = len(trainMatrix)  #计算训练的文档数目\n",
    "    numWords = len(trainMatrix[0])  #计算每篇文档的词条数\n",
    "    pAbusive = sum(trainCategory) / float(numTrainDocs)  #文档属于侮辱类的概率\n",
    "    p0Num = np.ones(numWords)\n",
    "    p1Num = np.ones(numWords)  #创建numpy.ones数组,词条出现数初始化为1，拉普拉斯平滑\n",
    "    p0Denom = 2.0\n",
    "    p1Denom = 2.0  #分母初始化为2,拉普拉斯平滑\n",
    "    for i in range(numTrainDocs):\n",
    "        if trainCategory[i] == 1:  #统计属于侮辱类的条件概率所需的数据，即P(w0|1),P(w1|1),P(w2|1)···\n",
    "            p1Num += trainMatrix[i]\n",
    "            p1Denom += sum(trainMatrix[i])\n",
    "        else:  #统计属于非侮辱类的条件概率所需的数据，即P(w0|0),P(w1|0),P(w2|0)···\n",
    "            p0Num += trainMatrix[i]\n",
    "            p0Denom += sum(trainMatrix[i])\n",
    "    p1Vect = np.log(p1Num / p1Denom)  #取对数，防止下溢出\n",
    "    p0Vect = np.log(p0Num / p0Denom)\n",
    "    return p0Vect, p1Vect, pAbusive\n",
    "\n",
    "\n",
    "def classifyNB(vec2Classify, p0Vec, p1Vec, pClass1):\n",
    "    p1 = sum(vec2Classify * p1Vec) + np.log(\n",
    "        pClass1)  #对应元素相乘。logA * B = logA + logB\n",
    "    p0 = sum(vec2Classify * p0Vec) + np.log(1.0 - pClass1)\n",
    "    if p1 > p0:\n",
    "        return 1\n",
    "    else:\n",
    "        return 0"
   ]
  },
  {
   "cell_type": "code",
   "execution_count": 17,
   "id": "da6a4c9c",
   "metadata": {
    "ExecuteTime": {
     "end_time": "2023-09-27T11:15:25.364237Z",
     "start_time": "2023-09-27T11:15:25.352711Z"
    }
   },
   "outputs": [
    {
     "name": "stdout",
     "output_type": "stream",
     "text": [
      "['love', 'my', 'dalmation'] 属于非侮辱类\n",
      "['stupid', 'garbage'] 属于侮辱类\n"
     ]
    }
   ],
   "source": [
    "testingNB()"
   ]
  },
  {
   "cell_type": "markdown",
   "id": "b91b0bbe",
   "metadata": {},
   "source": [
    "**结果正确！！！**"
   ]
  }
 ],
 "metadata": {
  "kernelspec": {
   "display_name": "ML",
   "language": "python",
   "name": "ml"
  },
  "language_info": {
   "codemirror_mode": {
    "name": "ipython",
    "version": 3
   },
   "file_extension": ".py",
   "mimetype": "text/x-python",
   "name": "python",
   "nbconvert_exporter": "python",
   "pygments_lexer": "ipython3",
   "version": "3.9.17"
  },
  "toc": {
   "base_numbering": 1,
   "nav_menu": {},
   "number_sections": true,
   "sideBar": true,
   "skip_h1_title": true,
   "title_cell": "Table of Contents",
   "title_sidebar": "Contents",
   "toc_cell": false,
   "toc_position": {},
   "toc_section_display": true,
   "toc_window_display": false
  },
  "varInspector": {
   "cols": {
    "lenName": 16,
    "lenType": 16,
    "lenVar": 40
   },
   "kernels_config": {
    "python": {
     "delete_cmd_postfix": "",
     "delete_cmd_prefix": "del ",
     "library": "var_list.py",
     "varRefreshCmd": "print(var_dic_list())"
    },
    "r": {
     "delete_cmd_postfix": ") ",
     "delete_cmd_prefix": "rm(",
     "library": "var_list.r",
     "varRefreshCmd": "cat(var_dic_list()) "
    }
   },
   "types_to_exclude": [
    "module",
    "function",
    "builtin_function_or_method",
    "instance",
    "_Feature"
   ],
   "window_display": false
  }
 },
 "nbformat": 4,
 "nbformat_minor": 5
}
